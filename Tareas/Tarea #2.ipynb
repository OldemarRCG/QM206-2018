{
 "cells": [
  {
   "cell_type": "code",
   "execution_count": 23,
   "metadata": {},
   "outputs": [],
   "source": [
    "import numpy as np\n",
    "import matplotlib.pyplot as plt\n"
   ]
  },
  {
   "cell_type": "code",
   "execution_count": 13,
   "metadata": {},
   "outputs": [
    {
     "data": {
      "text/plain": [
       "array([-17.35756762,  -9.34188808,  10.98717163, -11.68874998,\n",
       "       -20.94578935,   7.43263447,   1.72930575,   3.58671629,\n",
       "        -8.95465648,  23.09257399, -11.50441742,  -4.99456123,\n",
       "        15.80063421,  -2.63426959,  -0.86151584, -12.24573912,\n",
       "        -6.50650756,  -0.46937733, -12.91676431,  -0.40478797,\n",
       "        12.09418904,  16.91325588, -16.53339685,   2.13709509,\n",
       "        -7.77219277,   8.58909415,   6.38891248,  -2.74631756,\n",
       "        16.20863971, -16.19965829,  -0.75858762,   9.32809929,\n",
       "        -3.27997189,   6.31519092,  26.89836131,   3.1173876 ,\n",
       "        12.19644464,  -5.5727388 ,   6.27581481,  -6.45496616,\n",
       "        10.09002759,   5.44652661,  11.38062643,  19.72111463,\n",
       "        -3.53834906,  17.47094165,  -3.23050032,   3.15454939,\n",
       "         0.57641044,  -1.5629171 , -24.94286651,   3.42114845,\n",
       "       -15.43938818,   6.57885915,  -2.19358773,  -4.91589683,\n",
       "         9.09557541,   3.15663216, -11.14410214,  -0.48975811,\n",
       "        15.37238974,   9.98558347,  -5.91044989,  12.24964757,\n",
       "         6.6361354 ,  18.68289533,  -4.99955784, -16.50932893,\n",
       "         5.02608836,  15.35952396,   2.4112144 ,  -9.40911905,\n",
       "         3.55729668, -17.44887977,  21.06518364,  -9.75725388,\n",
       "        -9.02376824,   2.76646391,   6.4421434 , -14.50465967,\n",
       "         1.00062278,  -0.42288328,  13.94025923,  -9.65300486,\n",
       "        -1.84478306,  -7.79157071,  -7.38371641,  -4.98296979,\n",
       "        -0.83916627, -14.59496055,  20.2646881 , -10.42562595,\n",
       "        -0.60048379,   1.90714931,   7.5116448 ,   2.73561189,\n",
       "        -9.77455826,  -7.33177491,   3.52890408,  16.33645086])"
      ]
     },
     "execution_count": 13,
     "metadata": {},
     "output_type": "execute_result"
    }
   ],
   "source": [
    "x=np.random.randn(100)*10\n",
    "x"
   ]
  },
  {
   "cell_type": "code",
   "execution_count": 14,
   "metadata": {},
   "outputs": [
    {
     "data": {
      "text/plain": [
       "array([ -8.09911359,   7.66062144,  -9.60435738, -11.0786043 ,\n",
       "        -5.65156596,   2.35637282,  12.73892314,   1.18466707,\n",
       "        -6.49552243,  -8.08311207,   4.15438337, -13.37275535,\n",
       "         2.4480099 ,  13.28396363,   4.57488695,  26.10584687,\n",
       "       -10.34951059, -25.18130177,   7.1682053 , -10.86751067,\n",
       "         7.15248222,  -5.51372824,   0.07555837,  -4.46343501,\n",
       "       -19.58949497,  10.19797712,  -6.74162129,  -5.64110985,\n",
       "       -11.45425588,   6.00194092,  -2.19024311,   4.70131248,\n",
       "         4.83572086,  -6.62734201,   7.08909794, -11.64105073,\n",
       "        -0.96337502, -15.54757393,  14.20280872,  -3.053389  ,\n",
       "        13.99936283,   1.82447775,  -9.46733611,  -7.12215127,\n",
       "       -17.07369083,  -0.74979974,  -5.42016826,   9.75876005,\n",
       "       -11.22759031,   7.45680435,  -9.31648126,  -1.17242277,\n",
       "        -0.92041383, -11.80780183,  -3.07389892,   2.67874446,\n",
       "         6.50545835,   4.89551538,  -0.10910924,  -7.10104267,\n",
       "         3.7277866 ,  -4.52100368,  -0.88477565,  12.95754074,\n",
       "        -1.46834397,  -9.86690032,   0.88974203,   5.05613698,\n",
       "       -13.80147135,   2.91292016,  -1.7348327 ,   2.06005344,\n",
       "        19.55819929, -17.63722584,  -1.86146705,   1.02707505,\n",
       "        -0.18480401,   4.26673471, -18.78095832,   2.41117608,\n",
       "        -5.39082211,   2.6195369 ,  11.94379127,  -7.3132958 ,\n",
       "        -0.7876151 ,  -2.94219178, -12.39298705,   1.19610571,\n",
       "        -2.71453227,   1.59918748, -14.63388555,   7.79035519,\n",
       "         6.68944752, -11.85659877,   2.62152153,  -7.77125192,\n",
       "         4.73994779,   2.38457458,  19.92981356,  15.81628839])"
      ]
     },
     "execution_count": 14,
     "metadata": {},
     "output_type": "execute_result"
    }
   ],
   "source": [
    "y=np.random.randn(100)*10\n",
    "y"
   ]
  },
  {
   "cell_type": "code",
   "execution_count": 26,
   "metadata": {},
   "outputs": [
    {
     "data": {
      "text/plain": [
       "array([ 0,  1,  2,  3,  4,  5,  6,  7,  8,  9, 10, 11, 12, 13, 14, 15, 16,\n",
       "       17, 18, 19, 20, 21, 22, 23, 24, 25, 26, 27, 28, 29, 30, 31, 32, 33,\n",
       "       34, 35, 36, 37, 38, 39, 40, 41, 42, 43, 44, 45, 46, 47, 48, 49, 50,\n",
       "       51, 52, 53, 54, 55, 56, 57, 58, 59, 60, 61, 62, 63, 64, 65, 66, 67,\n",
       "       68, 69, 70, 71, 72, 73, 74, 75, 76, 77, 78, 79, 80, 81, 82, 83, 84,\n",
       "       85, 86, 87, 88, 89, 90, 91, 92, 93, 94, 95, 96, 97, 98, 99])"
      ]
     },
     "execution_count": 26,
     "metadata": {},
     "output_type": "execute_result"
    }
   ],
   "source": [
    "xx = np.arange(100)\n",
    "xx"
   ]
  },
  {
   "cell_type": "code",
   "execution_count": 12,
   "metadata": {},
   "outputs": [
    {
     "data": {
      "text/plain": [
       "array([ 0,  1,  2,  3,  4,  5,  6,  7,  8,  9, 10, 11, 12, 13, 14, 15, 16,\n",
       "       17, 18, 19, 20, 21, 22, 23, 24, 25, 26, 27, 28, 29, 30, 31, 32, 33,\n",
       "       34, 35, 36, 37, 38, 39, 40, 41, 42, 43, 44, 45, 46, 47, 48, 49, 50,\n",
       "       51, 52, 53, 54, 55, 56, 57, 58, 59, 60, 61, 62, 63, 64, 65, 66, 67,\n",
       "       68, 69, 70, 71, 72, 73, 74, 75, 76, 77, 78, 79, 80, 81, 82, 83, 84,\n",
       "       85, 86, 87, 88, 89, 90, 91, 92, 93, 94, 95, 96, 97, 98, 99])"
      ]
     },
     "execution_count": 12,
     "metadata": {},
     "output_type": "execute_result"
    }
   ],
   "source": [
    "yy = np.arange(100)\n",
    "yy"
   ]
  },
  {
   "cell_type": "code",
   "execution_count": 27,
   "metadata": {},
   "outputs": [
    {
     "data": {
      "image/png": "[encoded data removed]",
      "text/plain": [
       "<Figure size 432x288 with 1 Axes>"
      ]
     },
     "metadata": {},
     "output_type": "display_data"
    }
   ],
   "source": [
    "plt.plot(xx,yy)\n",
    "plt.show()"
   ]
  },
  {
   "cell_type": "code",
   "execution_count": null,
   "metadata": {},
   "outputs": [],
   "source": []
  }
 ],
 "metadata": {
  "kernelspec": {
   "display_name": "Python 3",
   "language": "python",
   "name": "python3"
  },
  "language_info": {
   "codemirror_mode": {
    "name": "ipython",
    "version": 3
   },
   "file_extension": ".py",
   "mimetype": "text/x-python",
   "name": "python",
   "nbconvert_exporter": "python",
   "pygments_lexer": "ipython3",
   "version": "3.6.5"
  }
 },
 "nbformat": 4,
 "nbformat_minor": 2
}
