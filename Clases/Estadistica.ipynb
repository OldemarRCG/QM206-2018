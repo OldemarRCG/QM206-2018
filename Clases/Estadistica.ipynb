{
 "cells": [
  {
   "cell_type": "code",
   "execution_count": 1,
   "metadata": {},
   "outputs": [],
   "source": [
    "import numpy as np"
   ]
  },
  {
   "cell_type": "code",
   "execution_count": 49,
   "metadata": {},
   "outputs": [],
   "source": [
    "#funcion clase que debe tener una funcion inicial\n",
    "class estadistica:\n",
    "    def __init__(self,x): #la clase debe tener una x que le pertenece a la funcion junto con self en todas las x\n",
    "        self.x=x #luego se añaden las funciones\n",
    "    def promedio(self):\n",
    "        n=len(self.x)\n",
    "        promedio=sum(self.x)/n\n",
    "        return promedio\n",
    "    def varianza(self):\n",
    "        n=len(self.x)\n",
    "        sigma2=sum((self.x-promedio(self.x))*(self.x-promedio(self.x)))/(n-1)\n",
    "        return sigma2\n",
    "    def minimo(self):\n",
    "        minx=9E99\n",
    "        for a in self.x:\n",
    "            if a<minx:\n",
    "                minx=a\n",
    "        return minx \n",
    "    def maximo(self): #funcion para encontrar el maximo, se utiliza un valor pequeño negativo\n",
    "        max_x=-9E99\n",
    "        for a in self.x:\n",
    "            if a>max_x:\n",
    "                max_x=a\n",
    "        return max_x"
   ]
  },
  {
   "cell_type": "code",
   "execution_count": 50,
   "metadata": {},
   "outputs": [],
   "source": [
    "def promedio(x):\n",
    "    n=len(x)\n",
    "    promedio=sum(x)/n\n",
    "    return promedio"
   ]
  },
  {
   "cell_type": "code",
   "execution_count": 51,
   "metadata": {},
   "outputs": [
    {
     "data": {
      "text/plain": [
       "4.428571428571429"
      ]
     },
     "execution_count": 51,
     "metadata": {},
     "output_type": "execute_result"
    }
   ],
   "source": [
    "#arreglo de valores para calcular promedio\n",
    "x=np.array([3,5,6,1,6,7,3])\n",
    "promedio(x)"
   ]
  },
  {
   "cell_type": "code",
   "execution_count": 52,
   "metadata": {},
   "outputs": [
    {
     "data": {
      "text/plain": [
       "-0.293015185903468"
      ]
     },
     "execution_count": 52,
     "metadata": {},
     "output_type": "execute_result"
    }
   ],
   "source": [
    "x=np.random.randn(100)\n",
    "promedio(x)"
   ]
  },
  {
   "cell_type": "code",
   "execution_count": 53,
   "metadata": {},
   "outputs": [
    {
     "name": "stdout",
     "output_type": "stream",
     "text": [
      "Promedio=0.01\n"
     ]
    }
   ],
   "source": [
    "#utilizando print con etiqueta del valor\n",
    "x=np.random.randn(100)\n",
    "print(\"Promedio=%3.2f\"%promedio(x))\n"
   ]
  },
  {
   "cell_type": "code",
   "execution_count": 54,
   "metadata": {},
   "outputs": [
    {
     "name": "stdout",
     "output_type": "stream",
     "text": [
      "Promedio=0.1751\n"
     ]
    }
   ],
   "source": [
    "x=np.random.randn(100)\n",
    "print(\"Promedio=%3.4f\"%promedio(x)) #se puede regular el numero de decimales (con 4 ahora)"
   ]
  },
  {
   "cell_type": "code",
   "execution_count": 55,
   "metadata": {},
   "outputs": [],
   "source": [
    "#funcion varianza\n",
    "def promedio(x):\n",
    "    n=len(x)\n",
    "    promedio=sum(x)/n\n",
    "    return promedio\n",
    "def varianza(x):\n",
    "    n=len(x)\n",
    "    sigma2=sum((x-promedio(x))*(x-promedio(x)))/(n-1)\n",
    "    return sigma2"
   ]
  },
  {
   "cell_type": "code",
   "execution_count": 56,
   "metadata": {},
   "outputs": [
    {
     "name": "stdout",
     "output_type": "stream",
     "text": [
      "Promedio=0.1751\n",
      "Varianza=0.6825\n"
     ]
    }
   ],
   "source": [
    "print(\"Promedio=%3.4f\"%promedio(x))\n",
    "print(\"Varianza=%3.4f\"%varianza(x)) #imprimir el valor de la varianza luego de crear la funcion "
   ]
  },
  {
   "cell_type": "code",
   "execution_count": 57,
   "metadata": {},
   "outputs": [],
   "source": [
    "#crear funcion que calcule el valor minimo de un grupo de datos \n",
    "def promedio(x):\n",
    "    n=len(x)\n",
    "    promedio=sum(x)/n\n",
    "    return promedio\n",
    "def varianza(x):\n",
    "    n=len(x)\n",
    "    sigma2=sum((x-promedio(x))*(x-promedio(x)))/(n-1)\n",
    "    return sigma2\n",
    "def minimo(x):\n",
    "    minx=9E99\n",
    "    for a in x:\n",
    "        if a<minx:\n",
    "            minx=a\n",
    "    return minx #return en la sangria de la funcion minx"
   ]
  },
  {
   "cell_type": "code",
   "execution_count": 58,
   "metadata": {},
   "outputs": [
    {
     "data": {
      "text/plain": [
       "1"
      ]
     },
     "execution_count": 58,
     "metadata": {},
     "output_type": "execute_result"
    }
   ],
   "source": [
    "#se busca un arreglo de valores y se encuentra el minimo \n",
    "x=np.array([3,5,6,1,6,7,3])\n",
    "minimo(x)"
   ]
  },
  {
   "cell_type": "code",
   "execution_count": 59,
   "metadata": {},
   "outputs": [],
   "source": [
    "def promedio(x):\n",
    "    n=len(x)\n",
    "    promedio=sum(x)/n\n",
    "    return promedio\n",
    "def varianza(x):\n",
    "    n=len(x)\n",
    "    sigma2=sum((x-promedio(x))*(x-promedio(x)))/(n-1)\n",
    "    return sigma2\n",
    "def minimo(x):\n",
    "    minx=9E99\n",
    "    for a in x:\n",
    "        if a<minx:\n",
    "            minx=a\n",
    "    return minx \n",
    "def maximo(x): #funcion para encontrar el maximo, se utiliza un valor pequeño negativo\n",
    "    max_x=-9E99\n",
    "    for a in x:\n",
    "        if a>max_x:\n",
    "            max_x=a\n",
    "    return max_x"
   ]
  },
  {
   "cell_type": "code",
   "execution_count": 60,
   "metadata": {},
   "outputs": [
    {
     "name": "stdout",
     "output_type": "stream",
     "text": [
      "1\n",
      "7\n"
     ]
    }
   ],
   "source": [
    "x=np.array([3,5,6,1,6,7,3])\n",
    "print(minimo(x))\n",
    "print(maximo(x)) #imprimir el maximo"
   ]
  },
  {
   "cell_type": "code",
   "execution_count": 61,
   "metadata": {},
   "outputs": [
    {
     "name": "stdout",
     "output_type": "stream",
     "text": [
      "Mínimo=1.0000\n",
      "Máximo=7.0000\n"
     ]
    }
   ],
   "source": [
    "x=np.array([3,5,6,1,6,7,3]) #imprimir los valores con etiqueta de maximo y minimo\n",
    "print(\"Mínimo=%3.4f\"%minimo(x))\n",
    "print(\"Máximo=%3.4f\"%maximo(x))"
   ]
  },
  {
   "cell_type": "code",
   "execution_count": 62,
   "metadata": {},
   "outputs": [],
   "source": [
    "x=np.array([3,5,6,1,6,7,3]) #instanciar un objeto (st en este caso) de la clase estadistica con grupo de valores\n",
    "st=estadistica(x)"
   ]
  },
  {
   "cell_type": "code",
   "execution_count": 63,
   "metadata": {},
   "outputs": [
    {
     "data": {
      "text/plain": [
       "4.428571428571429"
      ]
     },
     "execution_count": 63,
     "metadata": {},
     "output_type": "execute_result"
    }
   ],
   "source": [
    "st.promedio() #da error, y para quitarlo se va a eliminar la x de (self,x) en promedio y run run run run run"
   ]
  },
  {
   "cell_type": "code",
   "execution_count": 64,
   "metadata": {},
   "outputs": [
    {
     "data": {
      "text/plain": [
       "4.6190476190476195"
      ]
     },
     "execution_count": 64,
     "metadata": {},
     "output_type": "execute_result"
    }
   ],
   "source": [
    "st.varianza() #tambien se corre la clase en la parte de arriba y cuando da error aqui, se da run run run a la clase"
   ]
  },
  {
   "cell_type": "code",
   "execution_count": 65,
   "metadata": {},
   "outputs": [
    {
     "data": {
      "text/plain": [
       "1"
      ]
     },
     "execution_count": 65,
     "metadata": {},
     "output_type": "execute_result"
    }
   ],
   "source": [
    "st.minimo()"
   ]
  },
  {
   "cell_type": "code",
   "execution_count": 66,
   "metadata": {},
   "outputs": [
    {
     "data": {
      "text/plain": [
       "7"
      ]
     },
     "execution_count": 66,
     "metadata": {},
     "output_type": "execute_result"
    }
   ],
   "source": [
    "st.maximo()"
   ]
  },
  {
   "cell_type": "code",
   "execution_count": null,
   "metadata": {},
   "outputs": [],
   "source": []
  }
 ],
 "metadata": {
  "kernelspec": {
   "display_name": "Python 3",
   "language": "python",
   "name": "python3"
  },
  "language_info": {
   "codemirror_mode": {
    "name": "ipython",
    "version": 3
   },
   "file_extension": ".py",
   "mimetype": "text/x-python",
   "name": "python",
   "nbconvert_exporter": "python",
   "pygments_lexer": "ipython3",
   "version": "3.6.5"
  }
 },
 "nbformat": 4,
 "nbformat_minor": 2
}
